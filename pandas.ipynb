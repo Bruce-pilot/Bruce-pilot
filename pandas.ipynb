{
 "cells": [
  {
   "cell_type": "markdown",
   "metadata": {},
   "source": [
    "# Install Jupyter Extension\n",
    "Install the Jupyter extension in Visual Studio Code from the Extensions view."
   ]
  },
  {
   "cell_type": "code",
   "execution_count": 3,
   "metadata": {},
   "outputs": [],
   "source": [
    "# Install Jupyter extension in Visual Studio Code from the Extensions view\n",
    "# This section does not require any code to be executed in the notebook itself.\n",
    "# Follow these steps to install the Jupyter extension:\n",
    "# 1. Open Visual Studio Code.\n",
    "# 2. Go to the Extensions view by clicking on the Extensions icon in the Activity Bar on the side of the window.\n",
    "# 3. In the Extensions view search bar, type \"Jupyter\".\n",
    "# 4. Find the Jupyter extension in the search results and click the Install button."
   ]
  },
  {
   "cell_type": "markdown",
   "metadata": {},
   "source": [
    "# Open Jupyter Notebook\n",
    "Open an existing Jupyter notebook file (.ipynb) in Visual Studio Code."
   ]
  },
  {
   "cell_type": "code",
   "execution_count": 4,
   "metadata": {},
   "outputs": [],
   "source": [
    "# Open an existing Jupyter notebook file (.ipynb) in Visual Studio Code\n",
    "# This section does not require any code to be executed in the notebook itself.\n",
    "# Follow these steps to open a Jupyter notebook:\n",
    "# 1. Open Visual Studio Code.\n",
    "# 2. Go to the File menu and select Open File...\n",
    "# 3. Navigate to the location of your Jupyter notebook file (.ipynb).\n",
    "# 4. Select the file and click Open.\n",
    "# 5. The Jupyter notebook will open in a new tab within Visual Studio Code."
   ]
  },
  {
   "cell_type": "markdown",
   "metadata": {},
   "source": [
    "# Create a New Notebook\n",
    "Create a new Jupyter notebook file in Visual Studio Code by using the Command Palette or the File menu."
   ]
  },
  {
   "cell_type": "code",
   "execution_count": 5,
   "metadata": {},
   "outputs": [],
   "source": [
    "# Create a New Notebook\n",
    "\n",
    "# This section does not require any code to be executed in the notebook itself.\n",
    "# Follow these steps to create a new Jupyter notebook:\n",
    "# 1. Open Visual Studio Code.\n",
    "# 2. Open the Command Palette by pressing `Ctrl+Shift+P` (Windows/Linux) or `Cmd+Shift+P` (Mac).\n",
    "# 3. In the Command Palette, type \"Jupyter: Create New Blank Notebook\" and select it.\n",
    "# 4. A new blank Jupyter notebook will be created and opened in a new tab within Visual Studio Code."
   ]
  },
  {
   "cell_type": "markdown",
   "metadata": {},
   "source": [
    "# Practising Jupyter\n",
    "Run code cells in the Jupyter notebook and view the output directly within Visual Studio Code."
   ]
  },
  {
   "cell_type": "code",
   "execution_count": 15,
   "metadata": {},
   "outputs": [
    {
     "name": "stdout",
     "output_type": "stream",
     "text": [
      "  country_code country_name           region     sub_region  \\\n",
      "0          AFG   AFGANISTAN  ASIA MERIDIONAL  SOUTHERN ASIA   \n",
      "1          AFG   AFGANISTAN  ASIA MERIDIONAL  SOUTHERN ASIA   \n",
      "2          AFG   AFGANISTAN  ASIA MERIDIONAL  SOUTHERN ASIA   \n",
      "3          AFG   AFGANISTAN  ASIA MERIDIONAL  SOUTHERN ASIA   \n",
      "4          AFG   AFGANISTAN  ASIA MERIDIONAL  SOUTHERN ASIA   \n",
      "\n",
      "  intermediate_region  indicator_code  \\\n",
      "0                 NaN  NE.EXP.GNFS.ZS   \n",
      "1                 NaN  NE.EXP.GNFS.ZS   \n",
      "2                 NaN  NE.EXP.GNFS.ZS   \n",
      "3                 NaN  NE.EXP.GNFS.ZS   \n",
      "4                 NaN  NE.EXP.GNFS.ZS   \n",
      "\n",
      "                                    indicator_name  year  \\\n",
      "0  EXPORTACIONES DE BIENES Y SERVICIOS (% DEL PIB)  1960   \n",
      "1  EXPORTACIONES DE BIENES Y SERVICIOS (% DEL PIB)  1961   \n",
      "2  EXPORTACIONES DE BIENES Y SERVICIOS (% DEL PIB)  1962   \n",
      "3  EXPORTACIONES DE BIENES Y SERVICIOS (% DEL PIB)  1963   \n",
      "4  EXPORTACIONES DE BIENES Y SERVICIOS (% DEL PIB)  1964   \n",
      "\n",
      "   exports_of_goods_and_services  \n",
      "0                            0.0  \n",
      "1                            0.0  \n",
      "2                            0.0  \n",
      "3                            0.0  \n",
      "4                            0.0  \n"
     ]
    }
   ],
   "source": [
    "import pandas as pd\n",
    "df=pd.read_csv(r\"C:\\Users\\LUKWA\\Downloads\\export_goods_services_countries_dataset.csv\")\n",
    "print(df.head(5))"
   ]
  },
  {
   "cell_type": "code",
   "execution_count": 16,
   "metadata": {},
   "outputs": [
    {
     "name": "stdout",
     "output_type": "stream",
     "text": [
      "<class 'pandas.core.frame.DataFrame'>\n",
      "RangeIndex: 13760 entries, 0 to 13759\n",
      "Data columns (total 9 columns):\n",
      " #   Column                         Non-Null Count  Dtype  \n",
      "---  ------                         --------------  -----  \n",
      " 0   country_code                   13760 non-null  object \n",
      " 1   country_name                   13760 non-null  object \n",
      " 2   region                         8320 non-null   object \n",
      " 3   sub_region                     13760 non-null  object \n",
      " 4   intermediate_region            5760 non-null   object \n",
      " 5   indicator_code                 13760 non-null  object \n",
      " 6   indicator_name                 13760 non-null  object \n",
      " 7   year                           13760 non-null  int64  \n",
      " 8   exports_of_goods_and_services  13760 non-null  float64\n",
      "dtypes: float64(1), int64(1), object(7)\n",
      "memory usage: 967.6+ KB\n",
      "None\n"
     ]
    }
   ],
   "source": [
    "print(df.info())"
   ]
  },
  {
   "cell_type": "code",
   "execution_count": 17,
   "metadata": {},
   "outputs": [
    {
     "name": "stdout",
     "output_type": "stream",
     "text": [
      "<bound method NDFrame.describe of       country_code country_name  \\\n",
      "0              AFG   AFGANISTAN   \n",
      "1              AFG   AFGANISTAN   \n",
      "2              AFG   AFGANISTAN   \n",
      "3              AFG   AFGANISTAN   \n",
      "4              AFG   AFGANISTAN   \n",
      "...            ...          ...   \n",
      "13755          ZWE     ZIMBABWE   \n",
      "13756          ZWE     ZIMBABWE   \n",
      "13757          ZWE     ZIMBABWE   \n",
      "13758          ZWE     ZIMBABWE   \n",
      "13759          ZWE     ZIMBABWE   \n",
      "\n",
      "                                                  region          sub_region  \\\n",
      "0                                        ASIA MERIDIONAL       SOUTHERN ASIA   \n",
      "1                                        ASIA MERIDIONAL       SOUTHERN ASIA   \n",
      "2                                        ASIA MERIDIONAL       SOUTHERN ASIA   \n",
      "3                                        ASIA MERIDIONAL       SOUTHERN ASIA   \n",
      "4                                        ASIA MERIDIONAL       SOUTHERN ASIA   \n",
      "...                                                  ...                 ...   \n",
      "13755  ÁFRICA AL SUR DEL SAHARA (EXCLUIDO ALTOS INGRE...  SUB-SAHARAN AFRICA   \n",
      "13756  ÁFRICA AL SUR DEL SAHARA (EXCLUIDO ALTOS INGRE...  SUB-SAHARAN AFRICA   \n",
      "13757  ÁFRICA AL SUR DEL SAHARA (EXCLUIDO ALTOS INGRE...  SUB-SAHARAN AFRICA   \n",
      "13758  ÁFRICA AL SUR DEL SAHARA (EXCLUIDO ALTOS INGRE...  SUB-SAHARAN AFRICA   \n",
      "13759  ÁFRICA AL SUR DEL SAHARA (EXCLUIDO ALTOS INGRE...  SUB-SAHARAN AFRICA   \n",
      "\n",
      "      intermediate_region  indicator_code  \\\n",
      "0                     NaN  NE.EXP.GNFS.ZS   \n",
      "1                     NaN  NE.EXP.GNFS.ZS   \n",
      "2                     NaN  NE.EXP.GNFS.ZS   \n",
      "3                     NaN  NE.EXP.GNFS.ZS   \n",
      "4                     NaN  NE.EXP.GNFS.ZS   \n",
      "...                   ...             ...   \n",
      "13755      EASTERN AFRICA  NE.EXP.GNFS.ZS   \n",
      "13756      EASTERN AFRICA  NE.EXP.GNFS.ZS   \n",
      "13757      EASTERN AFRICA  NE.EXP.GNFS.ZS   \n",
      "13758      EASTERN AFRICA  NE.EXP.GNFS.ZS   \n",
      "13759      EASTERN AFRICA  NE.EXP.GNFS.ZS   \n",
      "\n",
      "                                        indicator_name  year  \\\n",
      "0      EXPORTACIONES DE BIENES Y SERVICIOS (% DEL PIB)  1960   \n",
      "1      EXPORTACIONES DE BIENES Y SERVICIOS (% DEL PIB)  1961   \n",
      "2      EXPORTACIONES DE BIENES Y SERVICIOS (% DEL PIB)  1962   \n",
      "3      EXPORTACIONES DE BIENES Y SERVICIOS (% DEL PIB)  1963   \n",
      "4      EXPORTACIONES DE BIENES Y SERVICIOS (% DEL PIB)  1964   \n",
      "...                                                ...   ...   \n",
      "13755  EXPORTACIONES DE BIENES Y SERVICIOS (% DEL PIB)  2019   \n",
      "13756  EXPORTACIONES DE BIENES Y SERVICIOS (% DEL PIB)  2020   \n",
      "13757  EXPORTACIONES DE BIENES Y SERVICIOS (% DEL PIB)  2021   \n",
      "13758  EXPORTACIONES DE BIENES Y SERVICIOS (% DEL PIB)  2022   \n",
      "13759  EXPORTACIONES DE BIENES Y SERVICIOS (% DEL PIB)  2023   \n",
      "\n",
      "       exports_of_goods_and_services  \n",
      "0                           0.000000  \n",
      "1                           0.000000  \n",
      "2                           0.000000  \n",
      "3                           0.000000  \n",
      "4                           0.000000  \n",
      "...                              ...  \n",
      "13755                      27.554156  \n",
      "13756                      22.293063  \n",
      "13757                      22.775241  \n",
      "13758                      27.872171  \n",
      "13759                      21.579400  \n",
      "\n",
      "[13760 rows x 9 columns]>\n"
     ]
    }
   ],
   "source": [
    "print(df.describe)"
   ]
  },
  {
   "cell_type": "code",
   "execution_count": 18,
   "metadata": {},
   "outputs": [
    {
     "name": "stdout",
     "output_type": "stream",
     "text": [
      "(13760, 9)\n"
     ]
    }
   ],
   "source": [
    "print(df.shape)"
   ]
  },
  {
   "cell_type": "code",
   "execution_count": 19,
   "metadata": {},
   "outputs": [
    {
     "name": "stdout",
     "output_type": "stream",
     "text": [
      "country_code                        0\n",
      "country_name                        0\n",
      "region                           5440\n",
      "sub_region                          0\n",
      "intermediate_region              8000\n",
      "indicator_code                      0\n",
      "indicator_name                      0\n",
      "year                                0\n",
      "exports_of_goods_and_services       0\n",
      "dtype: int64\n"
     ]
    }
   ],
   "source": [
    "print(df.isnull().sum())"
   ]
  },
  {
   "cell_type": "code",
   "execution_count": 20,
   "metadata": {},
   "outputs": [
    {
     "name": "stdout",
     "output_type": "stream",
     "text": [
      "country_code                     0\n",
      "country_name                     0\n",
      "region                           0\n",
      "sub_region                       0\n",
      "intermediate_region              0\n",
      "indicator_code                   0\n",
      "indicator_name                   0\n",
      "year                             0\n",
      "exports_of_goods_and_services    0\n",
      "dtype: int64\n"
     ]
    }
   ],
   "source": [
    "df.fillna(0, inplace=True)  # Replace NaNs with 0  \n",
    "print(df.isnull().sum())"
   ]
  },
  {
   "cell_type": "code",
   "execution_count": 26,
   "metadata": {},
   "outputs": [
    {
     "name": "stdout",
     "output_type": "stream",
     "text": [
      "  country_name           region\n",
      "0   AFGANISTAN  ASIA MERIDIONAL\n",
      "1   AFGANISTAN  ASIA MERIDIONAL\n",
      "2   AFGANISTAN  ASIA MERIDIONAL\n",
      "3   AFGANISTAN  ASIA MERIDIONAL\n",
      "4   AFGANISTAN  ASIA MERIDIONAL\n"
     ]
    }
   ],
   "source": [
    "df_subset = df[['country_name', 'region']]  # Select specific columns  \n",
    "print(df_subset.head())  \n",
    "\n"
   ]
  },
  {
   "cell_type": "code",
   "execution_count": 28,
   "metadata": {},
   "outputs": [],
   "source": [
    "df_sorted = df.sort_values(by='year', ascending=False)  \n"
   ]
  }
 ],
 "metadata": {
  "kernelspec": {
   "display_name": "Python 3",
   "language": "python",
   "name": "python3"
  },
  "language_info": {
   "codemirror_mode": {
    "name": "ipython",
    "version": 3
   },
   "file_extension": ".py",
   "mimetype": "text/x-python",
   "name": "python",
   "nbconvert_exporter": "python",
   "pygments_lexer": "ipython3",
   "version": "3.11.9"
  }
 },
 "nbformat": 4,
 "nbformat_minor": 2
}
